{
 "cells": [
  {
   "cell_type": "code",
   "execution_count": 1,
   "metadata": {},
   "outputs": [],
   "source": [
    "import h5py\n",
    "import numpy as np\n",
    "import matplotlib.pyplot as plt\n",
    "import matplotlib.cm as cm"
   ]
  },
  {
   "cell_type": "code",
   "execution_count": 2,
   "metadata": {},
   "outputs": [],
   "source": [
    "file_list = []\n",
    "for i in range(1,11):\n",
    "    set_num = str(i)\n",
    "    tmp = 'Uniform_Images/set_' +set_num+'_uniform_bmode.mat'\n",
    "    file_list.append(tmp)\n",
    "for i in range(1,11):    \n",
    "    set_num = str(i)\n",
    "    tmp = 'Lesion_Images/set_' +set_num+'_lesion_bmode.mat'\n",
    "    file_list.append(tmp)\n"
   ]
  },
  {
   "cell_type": "code",
   "execution_count": 3,
   "metadata": {},
   "outputs": [
    {
     "name": "stdout",
     "output_type": "stream",
     "text": [
      "Uniform_Images/set_1_uniform_bmode.mat\n",
      "Uniform_Images/set_2_uniform_bmode.mat\n",
      "Uniform_Images/set_3_uniform_bmode.mat\n",
      "Uniform_Images/set_4_uniform_bmode.mat\n",
      "Uniform_Images/set_5_uniform_bmode.mat\n",
      "Uniform_Images/set_6_uniform_bmode.mat\n",
      "Uniform_Images/set_7_uniform_bmode.mat\n",
      "Uniform_Images/set_8_uniform_bmode.mat\n",
      "Uniform_Images/set_9_uniform_bmode.mat\n",
      "Uniform_Images/set_10_uniform_bmode.mat\n",
      "Lesion_Images/set_1_lesion_bmode.mat\n",
      "Lesion_Images/set_2_lesion_bmode.mat\n",
      "Lesion_Images/set_3_lesion_bmode.mat\n",
      "Lesion_Images/set_4_lesion_bmode.mat\n",
      "Lesion_Images/set_5_lesion_bmode.mat\n",
      "Lesion_Images/set_6_lesion_bmode.mat\n",
      "Lesion_Images/set_7_lesion_bmode.mat\n",
      "Lesion_Images/set_8_lesion_bmode.mat\n",
      "Lesion_Images/set_9_lesion_bmode.mat\n",
      "Lesion_Images/set_10_lesion_bmode.mat\n"
     ]
    },
    {
     "data": {
      "text/plain": [
       "(390, 390, 1000)"
      ]
     },
     "execution_count": 3,
     "metadata": {},
     "output_type": "execute_result"
    }
   ],
   "source": [
    "data = np.empty((390, 390, 0))\n",
    "for file in file_list:\n",
    "    print(file)\n",
    "    f = h5py.File(file)\n",
    "    data_tmp = f.get('bmode_img')\n",
    "    data_tmp = np.array(data_tmp)\n",
    "    data_tmp = np.ndarray.transpose(data_tmp)\n",
    "    data_tmp - np.float16(data_tmp)\n",
    "    data = np.dstack((data, data_tmp))\n",
    "    \n",
    "data.shape    \n",
    "    "
   ]
  },
  {
   "cell_type": "code",
   "execution_count": 4,
   "metadata": {},
   "outputs": [],
   "source": [
    "labels = np.concatenate(np.zeros((500,1)))\n",
    "labels = np.concatenate((labels, np.ones((500))))\n"
   ]
  },
  {
   "cell_type": "code",
   "execution_count": 5,
   "metadata": {},
   "outputs": [],
   "source": [
    "np.save('img_data', data)"
   ]
  },
  {
   "cell_type": "code",
   "execution_count": 6,
   "metadata": {},
   "outputs": [],
   "source": [
    "np.save('labels', labels)"
   ]
  },
  {
   "cell_type": "code",
   "execution_count": null,
   "metadata": {},
   "outputs": [],
   "source": []
  }
 ],
 "metadata": {
  "kernelspec": {
   "display_name": "Python 3",
   "language": "python",
   "name": "python3"
  },
  "language_info": {
   "codemirror_mode": {
    "name": "ipython",
    "version": 3
   },
   "file_extension": ".py",
   "mimetype": "text/x-python",
   "name": "python",
   "nbconvert_exporter": "python",
   "pygments_lexer": "ipython3",
   "version": "3.6.8"
  }
 },
 "nbformat": 4,
 "nbformat_minor": 2
}
